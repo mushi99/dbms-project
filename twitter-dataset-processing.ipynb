{
 "cells": [
  {
   "cell_type": "code",
   "execution_count": 10,
   "metadata": {},
   "outputs": [],
   "source": [
    "import json"
   ]
  },
  {
   "cell_type": "code",
   "execution_count": 11,
   "metadata": {},
   "outputs": [
    {
     "name": "stdout",
     "output_type": "stream",
     "text": [
      "RETWEET\n",
      " id-- 1249403767180668930 text-- RT @nuffsaidny: wishing death on people is weirdo behavior. \n",
      "\n",
      "User--  {'id': 1242817830946508801, 'id_str': '1242817830946508801', 'name': 'juwelz v', 'screen_name': 'juwelz_v', 'location': 'Lower East Side, Manhattan', 'url': 'https://linktr.ee/juwelzv', 'description': 'Event Lyfe LLC .. Brand Ambassador: #visionarysociety Music Manager: @ssizzzlee & @tmoneybeatsbang Production🎥📸 #BringNyCultureBack 🌊🌊🌊 !!', 'translator_type': 'none', 'protected': False, 'verified': False, 'followers_count': 43, 'friends_count': 118, 'listed_count': 0, 'favourites_count': 722, 'statuses_count': 906, 'created_at': 'Wed Mar 25 14:17:28 +0000 2020', 'utc_offset': None, 'time_zone': None, 'geo_enabled': False, 'lang': None, 'contributors_enabled': False, 'is_translator': False, 'profile_background_color': 'F5F8FA', 'profile_background_image_url': '', 'profile_background_image_url_https': '', 'profile_background_tile': False, 'profile_link_color': '1DA1F2', 'profile_sidebar_border_color': 'C0DEED', 'profile_sidebar_fill_color': 'DDEEF6', 'profile_text_color': '333333', 'profile_use_background_image': True, 'profile_image_url': 'http://pbs.twimg.com/profile_images/1246253579805089797/Ks1MrEDW_normal.jpg', 'profile_image_url_https': 'https://pbs.twimg.com/profile_images/1246253579805089797/Ks1MrEDW_normal.jpg', 'profile_banner_url': 'https://pbs.twimg.com/profile_banners/1242817830946508801/1585146985', 'default_profile': True, 'default_profile_image': False, 'following': None, 'follow_request_sent': None, 'notifications': None} \n",
      "\n",
      "retweetstatus-- {'created_at': 'Sun Apr 12 16:48:01 +0000 2020', 'id': 1249378751349231616, 'id_str': '1249378751349231616', 'text': 'wishing death on people is weirdo behavior.', 'source': '<a href=\"http://twitter.com/download/iphone\" rel=\"nofollow\">Twitter for iPhone</a>', 'truncated': False, 'in_reply_to_status_id': None, 'in_reply_to_status_id_str': None, 'in_reply_to_user_id': None, 'in_reply_to_user_id_str': None, 'in_reply_to_screen_name': None, 'user': {'id': 16144221, 'id_str': '16144221', 'name': 'NUFF', 'screen_name': 'nuffsaidny', 'location': None, 'url': None, 'description': 'instagram: @nuffsaidny 🇹🇹', 'translator_type': 'regular', 'protected': False, 'verified': False, 'followers_count': 17112, 'friends_count': 1515, 'listed_count': 874, 'favourites_count': 15790, 'statuses_count': 2599, 'created_at': 'Fri Sep 05 14:28:41 +0000 2008', 'utc_offset': None, 'time_zone': None, 'geo_enabled': True, 'lang': None, 'contributors_enabled': False, 'is_translator': False, 'profile_background_color': 'C0DEED', 'profile_background_image_url': 'http://abs.twimg.com/images/themes/theme1/bg.png', 'profile_background_image_url_https': 'https://abs.twimg.com/images/themes/theme1/bg.png', 'profile_background_tile': True, 'profile_link_color': 'E81C4F', 'profile_sidebar_border_color': '000000', 'profile_sidebar_fill_color': '000000', 'profile_text_color': '000000', 'profile_use_background_image': True, 'profile_image_url': 'http://pbs.twimg.com/profile_images/1240511913152282624/I024wGWG_normal.jpg', 'profile_image_url_https': 'https://pbs.twimg.com/profile_images/1240511913152282624/I024wGWG_normal.jpg', 'default_profile': False, 'default_profile_image': False, 'following': None, 'follow_request_sent': None, 'notifications': None}, 'geo': None, 'coordinates': None, 'place': None, 'contributors': None, 'quoted_status_id': 1249315454797168641, 'quoted_status_id_str': '1249315454797168641', 'quoted_status': {'created_at': 'Sun Apr 12 12:36:30 +0000 2020', 'id': 1249315454797168641, 'id_str': '1249315454797168641', 'text': 'I pray my haters die of corona virus 😷', 'source': '<a href=\"http://twitter.com/download/iphone\" rel=\"nofollow\">Twitter for iPhone</a>', 'truncated': False, 'in_reply_to_status_id': None, 'in_reply_to_status_id_str': None, 'in_reply_to_user_id': None, 'in_reply_to_user_id_str': None, 'in_reply_to_screen_name': None, 'user': {'id': 46769281, 'id_str': '46769281', 'name': 'Gucci Mane', 'screen_name': 'gucci1017', 'location': 'EAST ATLANTA', 'url': 'https://guccimane.lnk.to/Woptober2', 'description': 'Major Label Recording Artist, signed to Atlantic Records. | wizopbooking@gmail.com', 'translator_type': 'none', 'protected': False, 'verified': True, 'followers_count': 8483937, 'friends_count': 1, 'listed_count': 10366, 'favourites_count': 11016, 'statuses_count': 21123, 'created_at': 'Fri Jun 12 22:52:05 +0000 2009', 'utc_offset': None, 'time_zone': None, 'geo_enabled': False, 'lang': None, 'contributors_enabled': False, 'is_translator': False, 'profile_background_color': '000000', 'profile_background_image_url': 'http://abs.twimg.com/images/themes/theme14/bg.gif', 'profile_background_image_url_https': 'https://abs.twimg.com/images/themes/theme14/bg.gif', 'profile_background_tile': False, 'profile_link_color': '009999', 'profile_sidebar_border_color': 'FFFFFF', 'profile_sidebar_fill_color': 'EFEFEF', 'profile_text_color': '333333', 'profile_use_background_image': True, 'profile_image_url': 'http://pbs.twimg.com/profile_images/1236396637284700161/cq6xECoN_normal.jpg', 'profile_image_url_https': 'https://pbs.twimg.com/profile_images/1236396637284700161/cq6xECoN_normal.jpg', 'profile_banner_url': 'https://pbs.twimg.com/profile_banners/46769281/1583614905', 'default_profile': False, 'default_profile_image': False, 'following': None, 'follow_request_sent': None, 'notifications': None}, 'geo': None, 'coordinates': None, 'place': None, 'contributors': None, 'is_quote_status': False, 'quote_count': 3376, 'reply_count': 1956, 'retweet_count': 9246, 'favorite_count': 33006, 'entities': {'hashtags': [], 'urls': [], 'user_mentions': [], 'symbols': []}, 'favorited': False, 'retweeted': False, 'filter_level': 'low', 'lang': 'en'}, 'quoted_status_permalink': {'url': 'https://t.co/FdZ3Hxzfwl', 'expanded': 'https://twitter.com/gucci1017/status/1249315454797168641', 'display': 'twitter.com/gucci1017/stat…'}, 'is_quote_status': True, 'quote_count': 1, 'reply_count': 1, 'retweet_count': 24, 'favorite_count': 50, 'entities': {'hashtags': [], 'urls': [], 'user_mentions': [], 'symbols': []}, 'favorited': False, 'retweeted': False, 'filter_level': 'low', 'lang': 'en'} \n",
      "\n",
      "RETWEET\n",
      " id-- 1249403768023678982 text-- RT @lale_karanfil: In Turkey, there are 300 thousand prisoners and 150 thousand prison employees in prisons. \n",
      "Prisons are the most risky pl… \n",
      "\n",
      "User--  {'id': 1225145123920588805, 'id_str': '1225145123920588805', 'name': 'efe09', 'screen_name': 'efe0927183508', 'location': None, 'url': None, 'description': \"Allah'ın en değerli eseri insandır.\\nCanı yanan sabretsin.\\nCan yakan, canının yanacağı günü beklesin..\\n677 khk\\nRT düşüncem olduğu anlamına gelmez bilgi amaçlıdır\", 'translator_type': 'none', 'protected': False, 'verified': False, 'followers_count': 653, 'friends_count': 983, 'listed_count': 0, 'favourites_count': 1255, 'statuses_count': 4177, 'created_at': 'Wed Feb 05 19:52:38 +0000 2020', 'utc_offset': None, 'time_zone': None, 'geo_enabled': False, 'lang': None, 'contributors_enabled': False, 'is_translator': False, 'profile_background_color': 'F5F8FA', 'profile_background_image_url': '', 'profile_background_image_url_https': '', 'profile_background_tile': False, 'profile_link_color': '1DA1F2', 'profile_sidebar_border_color': 'C0DEED', 'profile_sidebar_fill_color': 'DDEEF6', 'profile_text_color': '333333', 'profile_use_background_image': True, 'profile_image_url': 'http://pbs.twimg.com/profile_images/1243137514665361409/95Mv0oRS_normal.jpg', 'profile_image_url_https': 'https://pbs.twimg.com/profile_images/1243137514665361409/95Mv0oRS_normal.jpg', 'profile_banner_url': 'https://pbs.twimg.com/profile_banners/1225145123920588805/1585222614', 'default_profile': True, 'default_profile_image': False, 'following': None, 'follow_request_sent': None, 'notifications': None} \n",
      "\n",
      "retweetstatus-- {'created_at': 'Sun Apr 12 18:02:41 +0000 2020', 'id': 1249397541596286979, 'id_str': '1249397541596286979', 'text': 'In Turkey, there are 300 thousand prisoners and 150 thousand prison employees in prisons. \\nPrisons are the most ris… https://t.co/GogsgfUxkE', 'source': '<a href=\"http://twitter.com/download/android\" rel=\"nofollow\">Twitter for Android</a>', 'truncated': True, 'in_reply_to_status_id': None, 'in_reply_to_status_id_str': None, 'in_reply_to_user_id': None, 'in_reply_to_user_id_str': None, 'in_reply_to_screen_name': None, 'user': {'id': 1087735689091928064, 'id_str': '1087735689091928064', 'name': 'Karanfil Lale', 'screen_name': 'lale_karanfil', 'location': None, 'url': None, 'description': None, 'translator_type': 'none', 'protected': False, 'verified': False, 'followers_count': 897, 'friends_count': 1120, 'listed_count': 1, 'favourites_count': 2776, 'statuses_count': 7986, 'created_at': 'Tue Jan 22 15:36:12 +0000 2019', 'utc_offset': None, 'time_zone': None, 'geo_enabled': False, 'lang': None, 'contributors_enabled': False, 'is_translator': False, 'profile_background_color': 'F5F8FA', 'profile_background_image_url': '', 'profile_background_image_url_https': '', 'profile_background_tile': False, 'profile_link_color': '1DA1F2', 'profile_sidebar_border_color': 'C0DEED', 'profile_sidebar_fill_color': 'DDEEF6', 'profile_text_color': '333333', 'profile_use_background_image': True, 'profile_image_url': 'http://pbs.twimg.com/profile_images/1248313542387757057/see_F0uX_normal.jpg', 'profile_image_url_https': 'https://pbs.twimg.com/profile_images/1248313542387757057/see_F0uX_normal.jpg', 'profile_banner_url': 'https://pbs.twimg.com/profile_banners/1087735689091928064/1571123765', 'default_profile': True, 'default_profile_image': False, 'following': None, 'follow_request_sent': None, 'notifications': None}, 'geo': None, 'coordinates': None, 'place': None, 'contributors': None, 'is_quote_status': False, 'extended_tweet': {'full_text': 'In Turkey, there are 300 thousand prisoners and 150 thousand prison employees in prisons. \\nPrisons are the most risky places in case of corona virus.\\nThe lives of thousands of people are at risk.\\n\\n#COVID19InTurkeysPrisons\\n\\n@SusannaCeccardi', 'display_text_range': [0, 239], 'entities': {'hashtags': [{'text': 'COVID19InTurkeysPrisons', 'indices': [197, 221]}], 'urls': [], 'user_mentions': [{'screen_name': 'SusannaCeccardi', 'name': 'Susanna Ceccardi', 'id': 406110645, 'id_str': '406110645', 'indices': [223, 239]}], 'symbols': []}}, 'quote_count': 0, 'reply_count': 1, 'retweet_count': 14, 'favorite_count': 6, 'entities': {'hashtags': [], 'urls': [{'url': 'https://t.co/GogsgfUxkE', 'expanded_url': 'https://twitter.com/i/web/status/1249397541596286979', 'display_url': 'twitter.com/i/web/status/1…', 'indices': [117, 140]}], 'user_mentions': [], 'symbols': []}, 'favorited': False, 'retweeted': False, 'filter_level': 'low', 'lang': 'en'} \n",
      "\n",
      "TWEET\n",
      " id-- 1249403770360016896 text-- SERÁ APENAS COINCIDÊNCIA?\n",
      "\n",
      "Após escudo do Remo aparecer em prédio, Prefeitura divulgou que 33 pessoas com corona se… https://t.co/lCcwYH2eg5 \n",
      "\n",
      "User--  {'id': 988174833849634816, 'id_str': '988174833849634816', 'name': 'TV Conservador / Metró', 'screen_name': 'TVConservador', 'location': 'Belém, Brasil', 'url': None, 'description': 'Emissora afiliada a Rede Metrópole (@cnt_pr) no estado do Pará. As notícias aqui dadas são FICTÍCIAS, não pegue corda ok 👍\\n\\n© Sistema O Conservador Ltda.', 'translator_type': 'none', 'protected': False, 'verified': False, 'followers_count': 7240, 'friends_count': 566, 'listed_count': 17, 'favourites_count': 18417, 'statuses_count': 22665, 'created_at': 'Sun Apr 22 21:56:54 +0000 2018', 'utc_offset': None, 'time_zone': None, 'geo_enabled': False, 'lang': None, 'contributors_enabled': False, 'is_translator': False, 'profile_background_color': '000000', 'profile_background_image_url': 'http://abs.twimg.com/images/themes/theme1/bg.png', 'profile_background_image_url_https': 'https://abs.twimg.com/images/themes/theme1/bg.png', 'profile_background_tile': False, 'profile_link_color': '1B95E0', 'profile_sidebar_border_color': '000000', 'profile_sidebar_fill_color': '000000', 'profile_text_color': '000000', 'profile_use_background_image': False, 'profile_image_url': 'http://pbs.twimg.com/profile_images/1245501760518701057/zUWjkVz__normal.jpg', 'profile_image_url_https': 'https://pbs.twimg.com/profile_images/1245501760518701057/zUWjkVz__normal.jpg', 'profile_banner_url': 'https://pbs.twimg.com/profile_banners/988174833849634816/1585783589', 'default_profile': False, 'default_profile_image': False, 'following': None, 'follow_request_sent': None, 'notifications': None} \n",
      "\n",
      "TWEET\n",
      " id-- 1249403771261722624 text-- #Bo der Osterhase hat nicht Corona, er ist gekommen. \n",
      "\n",
      "User--  {'id': 1171484224244744198, 'id_str': '1171484224244744198', 'name': 'Elfpunkt', 'screen_name': 'meElfpunkt', 'location': None, 'url': None, 'description': 'Mal 1 mal 0 mal Tilt', 'translator_type': 'none', 'protected': False, 'verified': False, 'followers_count': 3, 'friends_count': 53, 'listed_count': 0, 'favourites_count': 72, 'statuses_count': 60, 'created_at': 'Tue Sep 10 18:03:17 +0000 2019', 'utc_offset': None, 'time_zone': None, 'geo_enabled': False, 'lang': None, 'contributors_enabled': False, 'is_translator': False, 'profile_background_color': 'F5F8FA', 'profile_background_image_url': '', 'profile_background_image_url_https': '', 'profile_background_tile': False, 'profile_link_color': '1DA1F2', 'profile_sidebar_border_color': 'C0DEED', 'profile_sidebar_fill_color': 'DDEEF6', 'profile_text_color': '333333', 'profile_use_background_image': True, 'profile_image_url': 'http://abs.twimg.com/sticky/default_profile_images/default_profile_normal.png', 'profile_image_url_https': 'https://abs.twimg.com/sticky/default_profile_images/default_profile_normal.png', 'default_profile': True, 'default_profile_image': False, 'following': None, 'follow_request_sent': None, 'notifications': None} \n",
      "\n",
      "num of lines= 18518 num of tweets= 7356 num of retweets= 11162\n",
      "num of unique tweets/retweets= 18506\n"
     ]
    }
   ],
   "source": [
    "# this code block allows you to inspect 2 tweets and 2 retweets in the dataset\n",
    "# it also saves all the unique tweets/retweets in the dictionary tweets\n",
    "# this code will help you to understand the data\n",
    "# feel free to print out more fields\n",
    "\n",
    "lines=0\n",
    "num_tweets=0\n",
    "num_retweets=0\n",
    "print_tweet = 0\n",
    "print_retweet = 0\n",
    "tweets = {}\n",
    "\n",
    "#insert path and replace name of the file below as needed\n",
    "with open(\"corona-out-2\", \"r\") as f1:\n",
    "    for line in f1:\n",
    "        try:\n",
    "            data = json.loads(line)\n",
    "            lines = lines + 1\n",
    "            if ( data['text'].startswith('RT') ):\n",
    "                num_retweets += 1\n",
    "                #print out some fields of one retweet \n",
    "                #note that you should look at other fields too\n",
    "                if (print_retweet < 2):\n",
    "                    print_retweet += 1\n",
    "                    print('RETWEET\\n','id--',data['id'],'text--',data['text'],'\\n')\n",
    "                    \n",
    "                    print('User-- ',data['user'],'\\n')\n",
    "                  \n",
    "                    print('retweetstatus--',data['retweeted_status'],'\\n')\n",
    "                  \n",
    "\n",
    "            else:\n",
    "                num_tweets += 1\n",
    "                #print out some fields of one tweet \n",
    "                #note that you should look at other fields too\n",
    "                if (print_tweet < 2):\n",
    "                    print_tweet += 1\n",
    "                    print('TWEET\\n','id--',data['id'],'text--',data['text'],'\\n')\n",
    "                    print('User-- ',data['user'],'\\n')\n",
    "                    \n",
    "\n",
    "\n",
    "            if (data['id_str'] not in tweets):\n",
    "                tweets[data['id_str']] = data\n",
    "            \n",
    "        except:\n",
    "            # if there is an error loading the json of the tweet, skip\n",
    "            continue\n",
    "            \n",
    "print('num of lines=',lines, 'num of tweets=',num_tweets, 'num of retweets=',num_retweets)\n",
    "print('num of unique tweets/retweets=',len(tweets.keys()))"
   ]
  },
  {
   "cell_type": "code",
   "execution_count": 1,
   "metadata": {
    "tags": []
   },
   "outputs": [
    {
     "name": "stdout",
     "output_type": "stream",
     "text": [
      "Requirement already satisfied: mysql-connector-python in /Users/mushirashaikh/anaconda3/lib/python3.11/site-packages (8.3.0)\n",
      "Note: you may need to restart the kernel to use updated packages.\n"
     ]
    }
   ],
   "source": [
    "pip install mysql-connector-python"
   ]
  },
  {
   "cell_type": "code",
   "execution_count": 2,
   "metadata": {
    "tags": []
   },
   "outputs": [],
   "source": [
    "import mysql.connector\n",
    "from datetime import datetime"
   ]
  },
  {
   "cell_type": "code",
   "execution_count": 3,
   "metadata": {
    "tags": []
   },
   "outputs": [],
   "source": [
    "# Connect to MySQL\n",
    "conn = mysql.connector.connect(\n",
    "    host=\"localhost\",\n",
    "    user=\"root\",\n",
    "    password=\"root\"\n",
    ")\n",
    "\n",
    "# Create a cursor object\n",
    "cursor = conn.cursor()\n",
    "\n",
    "# Create the database 'twitter-user-data'\n",
    "cursor.execute(\"CREATE DATABASE IF NOT EXISTS twitter_user_data\")\n",
    "\n",
    "# Use the database 'twitter-user-data'\n",
    "cursor.execute(\"USE twitter_user_data\")\n"
   ]
  },
  {
   "cell_type": "code",
   "execution_count": 4,
   "metadata": {
    "tags": []
   },
   "outputs": [
    {
     "name": "stdout",
     "output_type": "stream",
     "text": [
      "Table 'users_info' dropped successfully.\n"
     ]
    }
   ],
   "source": [
    "\n",
    "# Define the SQL query to drop the table\n",
    "table_name = \"users_info\"\n",
    "drop_table_query = f\"DROP TABLE IF EXISTS {table_name};\"\n",
    "\n",
    "try:\n",
    "    # Execute the drop table query\n",
    "    cursor.execute(drop_table_query)\n",
    "    print(f\"Table '{table_name}' dropped successfully.\")\n",
    "    \n",
    "    # Commit the transaction\n",
    "    conn.commit()\n",
    "\n",
    "except mysql.connector.Error as error:\n",
    "    print(f\"Failed to drop table: {error}\")\n"
   ]
  },
  {
   "cell_type": "code",
   "execution_count": 5,
   "metadata": {
    "tags": []
   },
   "outputs": [],
   "source": [
    "# Create the table 'users_info'\n",
    "create_table_query = \"\"\"\n",
    "CREATE TABLE IF NOT EXISTS users_info (\n",
    "    id BIxGINT PRIMARY KEY,\n",
    "    name VARCHAR(255),\n",
    "    screen_name VARCHAR(255),\n",
    "    location VARCHAR(255),\n",
    "    description TEXT,\n",
    "    verified BOOLEAN,\n",
    "    followers_count INT,\n",
    "    friends_count INT,\n",
    "    created_at DATETIME\n",
    ")\n",
    "\"\"\"\n",
    "\n",
    "cursor.execute(create_table_query)"
   ]
  },
  {
   "cell_type": "code",
   "execution_count": 13,
   "metadata": {
    "tags": []
   },
   "outputs": [],
   "source": [
    "def insert_user_data(user, cursor):\n",
    "\n",
    "    # Insert the user data into the table\n",
    "    insert_query = \"\"\"\n",
    "    INSERT IGNORE INTO users_info (id, name, screen_name, location, description, verified, followers_count, friends_count, created_at)\n",
    "    VALUES (%s, %s, %s, %s, %s, %s, %s, %s, %s)\n",
    "    \"\"\"\n",
    "\n",
    "    # Convert boolean to integer for MySQL\n",
    "    verified = 1 if user[\"verified\"] else 0\n",
    "    datetime_object = datetime.strptime(user[\"created_at\"], '%a %b %d %H:%M:%S %z %Y').strftime('%Y-%m-%d %H:%M:%S')\n",
    "\n",
    "    # Execute the query\n",
    "    cursor.execute(insert_query, (\n",
    "        user[\"id\"],\n",
    "        user[\"name\"],\n",
    "        user[\"screen_name\"],\n",
    "        user[\"location\"],\n",
    "        user[\"description\"],\n",
    "        verified,\n",
    "        user[\"followers_count\"],\n",
    "        user[\"friends_count\"],\n",
    "        datetime_object\n",
    "    ))\n",
    "\n",
    "insert_user_data(data['user'], cursor)    "
   ]
  },
  {
   "cell_type": "code",
   "execution_count": 14,
   "metadata": {
    "tags": []
   },
   "outputs": [
    {
     "name": "stdout",
     "output_type": "stream",
     "text": [
      "(2283278160, 'Mr rius', 'AwhexWibowo', 'Yogyakarta, Indonesia', 'have fun go mad', 0, 451, 608, datetime.datetime(2014, 1, 9, 8, 34, 3))\n"
     ]
    }
   ],
   "source": [
    "select_query = \"SELECT * FROM users_info\"\n",
    "\n",
    "# Execute the query\n",
    "cursor.execute(select_query)\n",
    "\n",
    "# Fetch all rows\n",
    "rows = cursor.fetchall()\n",
    "\n",
    "# Print the rows\n",
    "for row in rows:\n",
    "    print(row)"
   ]
  },
  {
   "cell_type": "code",
   "execution_count": 15,
   "metadata": {},
   "outputs": [],
   "source": [
    "cursor.close()\n",
    "conn.close()"
   ]
  },
  {
   "cell_type": "code",
   "execution_count": null,
   "metadata": {},
   "outputs": [],
   "source": []
  }
 ],
 "metadata": {
  "kernelspec": {
   "display_name": "Python 3 (ipykernel)",
   "language": "python",
   "name": "python3"
  },
  "language_info": {
   "codemirror_mode": {
    "name": "ipython",
    "version": 3
   },
   "file_extension": ".py",
   "mimetype": "text/x-python",
   "name": "python",
   "nbconvert_exporter": "python",
   "pygments_lexer": "ipython3",
   "version": "3.11.5"
  },
  "toc": {
   "base_numbering": 1,
   "nav_menu": {},
   "number_sections": true,
   "sideBar": true,
   "skip_h1_title": false,
   "title_cell": "Table of Contents",
   "title_sidebar": "Contents",
   "toc_cell": false,
   "toc_position": {},
   "toc_section_display": true,
   "toc_window_display": false
  }
 },
 "nbformat": 4,
 "nbformat_minor": 4
}
