{
 "cells": [
  {
   "cell_type": "code",
   "execution_count": 1,
   "metadata": {},
   "outputs": [],
   "source": [
    "import firebase_admin\n",
    "from firebase_admin import credentials\n",
    "\n",
    "# Path to the service account key file\n",
    "service_account_key_path = \"test1-51b68-firebase-adminsdk-athce-02b63b7d75.json\"\n",
    "\n",
    "# Check if Firebase Admin SDK is already initialized\n",
    "if not firebase_admin._apps:\n",
    "    # Initialize Firebase Admin SDK with a unique app name\n",
    "    cred = credentials.Certificate(service_account_key_path)\n",
    "    firebase_admin.initialize_app(cred, name='myApp')\n"
   ]
  },
  {
   "cell_type": "code",
   "execution_count": 2,
   "metadata": {},
   "outputs": [],
   "source": [
    "import json\n",
    "from google.cloud import firestore"
   ]
  },
  {
   "cell_type": "code",
   "execution_count": 7,
   "metadata": {},
   "outputs": [],
   "source": [
    "db = firestore.Client.from_service_account_json(service_account_key_path, project=\"test1-51b68\")\n"
   ]
  },
  {
   "cell_type": "code",
   "execution_count": 22,
   "metadata": {},
   "outputs": [],
   "source": [
    "def create_collection(collection_name):\n",
    "    \"\"\"\n",
    "    Create a new collection in Firestore by adding a dummy document.\n",
    "    \"\"\"\n",
    "    # Check if collection already exists\n",
    "    collections = [c.id for c in db.collections()]\n",
    "    if collection_name in collections:\n",
    "        print(f\"Collection '{collection_name}' already exists.\")\n",
    "        return\n",
    "\n",
    "    # Add a dummy document to create the collection\n",
    "    dummy_doc_ref = db.collection(collection_name).document('dummy')\n",
    "    dummy_doc_ref.set({})\n",
    "    print(f\"Collection '{collection_name}' created successfully.\")\n",
    "    \n",
    "def create_document(collection, data):\n",
    "    \"\"\"\n",
    "    Create a new document in the specified collection with the given data.\n",
    "    \"\"\"\n",
    "    if not isinstance(data, dict):\n",
    "        print(\"Error: Data must be a dictionary.\")\n",
    "        return\n",
    "    \n",
    "    doc_ref = db.collection(collection).document()\n",
    "    doc_ref.set(data)\n",
    "    print(f\"Document {doc_ref.id} created successfully.\")\n",
    "\n",
    "\n",
    "def upload_json_data(json_data, collection_name):\n",
    "    \"\"\"\n",
    "    Upload JSON data to the Firestore collection.\n",
    "    \"\"\"\n",
    "    # Ensure json_data is a list\n",
    "    if not isinstance(json_data, list):\n",
    "        print(\"Error: JSON data must be a list.\")\n",
    "        return\n",
    "    \n",
    "    # Check if the collection already exists\n",
    "    collections = [c.id for c in db.collections()]\n",
    "    if collection_name in collections:\n",
    "        print(f\"Collection '{collection_name}' already exists.\")\n",
    "    else:\n",
    "        # Create collection if it doesn't exist\n",
    "        db.create_collection(collection_name)\n",
    "        print(f\"Collection '{collection_name}' created successfully.\")\n",
    "    \n",
    "    # Upload JSON data to Firestore\n",
    "    for data in json_data:\n",
    "        if not isinstance(data, dict):\n",
    "            print(\"Error: Data must be a dictionary.\")\n",
    "            continue\n",
    "        \n",
    "        create_document(collection_name, data)\n"
   ]
  },
  {
   "cell_type": "code",
   "execution_count": 23,
   "metadata": {},
   "outputs": [],
   "source": [
    "def main():\n",
    "    # Path to the JSON file\n",
    "    file_path = \"citibikenyc-1.json\"\n",
    "\n",
    "    # Collection name\n",
    "    collection_name = \"citybike\"\n",
    "\n",
    "    create_collection(collection_name)\n",
    "    # Upload JSON data to Firestore\n",
    "    upload_json_data(file_path, collection_name)\n",
    "\n"
   ]
  },
  {
   "cell_type": "code",
   "execution_count": 24,
   "metadata": {},
   "outputs": [
    {
     "name": "stdout",
     "output_type": "stream",
     "text": [
      "Collection 'citybike1' already exists.\n",
      "Error: JSON data must be a list.\n"
     ]
    }
   ],
   "source": [
    "main()"
   ]
  },
  {
   "cell_type": "code",
   "execution_count": null,
   "metadata": {},
   "outputs": [],
   "source": []
  }
 ],
 "metadata": {
  "kernelspec": {
   "display_name": "test",
   "language": "python",
   "name": "python3"
  },
  "language_info": {
   "codemirror_mode": {
    "name": "ipython",
    "version": 3
   },
   "file_extension": ".py",
   "mimetype": "text/x-python",
   "name": "python",
   "nbconvert_exporter": "python",
   "pygments_lexer": "ipython3",
   "version": "3.7.13"
  }
 },
 "nbformat": 4,
 "nbformat_minor": 2
}
